{
 "cells": [
  {
   "cell_type": "markdown",
   "metadata": {},
   "source": [
    "# ROB2004 Final Project - pushing an object\n",
    "\n",
    "The goal of this project is to resolve a simple manipulation task.\n",
    "\n",
    "## Instructions\n",
    "* Answer all questions in the notebook\n",
    "* You will need to submit on Brightspace: \n",
    "    1. the code you wrote to answer the questions in a Jupyter Notebook. The code should be runnable as is.\n",
    "    2. a 2-3 pages report in pdf format (pdf only) detailing the methodology you followed to answer the questions as well as answers to the questions that require a typeset answer. You may add the plots in the report (does not count for the page limit) or in the Jupyter notebook.\n",
    "* This is an individual project\n",
    "\n",
    "We will use a model of the [Kuka iiwa 14 robot](https://www.kuka.com/en-us/products/robotics-systems/industrial-robots/lbr-iiwa). This robot has 7 revolute joints and its kinematics is described in the picture below:\n",
    "\n",
    "You will need to install pybullet on your computer. Please reach out as soon as possible for help if you do not know how to do it.\n",
    "\n",
    "<div>\n",
    "<img src=\"./kuka_kinematics.png\" width=\"300\"/>\n",
    "</div>"
   ]
  },
  {
   "cell_type": "markdown",
   "metadata": {},
   "source": [
    "# Question\n",
    "\n",
    "Implement a controller using the code skeletong below in order to get the robot to move the yellow duck into the bin. The duck position with respect to the S frame is $(-0.2,0.6,0.55)$\n",
    "\n",
    "<div>\n",
    "<img src=\"./manipulation_scene.png\" width=\"300\"/>\n",
    "</div>\n",
    "\n",
    "You are free to use the methods that you want with the following constraints:\n",
    "* You need to use at least one controller in the end-effector space\n",
    "* You need to generate smooth motions\n",
    "* You need to compensate for the gravity of the robot\n",
    "\n",
    "In your report, describe the controller and justify your choices. Analyze the behavior of the system (include plots of the end-effector trajectories, joint trajectories, etc as you see fit)."
   ]
  },
  {
   "cell_type": "code",
   "execution_count": 1,
   "metadata": {},
   "outputs": [
    {
     "name": "stderr",
     "output_type": "stream",
     "text": [
      "pybullet build time: Apr 21 2022 10:24:34\n"
     ]
    }
   ],
   "source": [
    "import numpy as np\n",
    "import time\n",
    "\n",
    "import matplotlib.pyplot as plt\n",
    "\n",
    "from iiwa import Simulator, iiwaRobot\n",
    "\n",
    "np.set_printoptions(precision=3, suppress = True)"
   ]
  },
  {
   "cell_type": "markdown",
   "metadata": {},
   "source": [
    "# Helper functions\n",
    "\n",
    "We provide a set of helper functions (forward kinematics, Jacobians, gravity terms) that can be used to implement the desired controllers. Examples are shown below:"
   ]
  },
  {
   "cell_type": "code",
   "execution_count": 2,
   "metadata": {},
   "outputs": [
    {
     "name": "stdout",
     "output_type": "stream",
     "text": [
      "the pose of the end-effector for joint configuration\n",
      "\n",
      " [-0.678 -0.673 -0.556 -0.611 -0.247 -0.346  0.076]\n",
      "\n",
      " is\n",
      "\n",
      " [[ 0.169  0.923 -0.345 -0.362]\n",
      " [-0.952  0.243  0.185  0.125]\n",
      " [ 0.254  0.297  0.92   1.177]\n",
      " [ 0.     0.     0.     1.   ]]\n"
     ]
    }
   ],
   "source": [
    "# create an instance of the helper class\n",
    "my_robot = iiwaRobot()\n",
    "\n",
    "# compute the forward kinematics for an arbitrary joint configuration\n",
    "q = np.random.uniform(-1,1,7)\n",
    "pose = my_robot.FK(q)\n",
    "print(f'the pose of the end-effector for joint configuration\\n\\n {q}\\n\\n is\\n\\n {pose}')"
   ]
  },
  {
   "cell_type": "code",
   "execution_count": 3,
   "metadata": {},
   "outputs": [
    {
     "name": "stdout",
     "output_type": "stream",
     "text": [
      "for joint configuration \n",
      "\n",
      " [ 0.881 -0.764  0.859  0.314 -0.4   -0.799 -0.837] \n",
      " \n",
      " the spatial Jacobian is \n",
      "\n",
      " [[ 0.    -0.771 -0.44   0.852 -0.331 -0.943 -0.201]\n",
      " [ 0.     0.636 -0.533  0.006 -0.768  0.244 -0.96 ]\n",
      " [ 1.     0.     0.722  0.524  0.548 -0.228 -0.195]\n",
      " [ 0.    -0.229  0.192 -0.121  0.387 -0.094  0.951]\n",
      " [ 0.    -0.278 -0.158  0.662 -0.118 -0.904 -0.239]\n",
      " [ 0.     0.    -0.     0.19   0.068 -0.578  0.198]]\n",
      "\n",
      "\n",
      "the body Jacobian is \n",
      "\n",
      " [[ 0.808 -0.576  0.5    0.866  0.48  -0.743  0.   ]\n",
      " [ 0.556  0.678  0.734 -0.415  0.532  0.67   0.   ]\n",
      " [-0.195 -0.456  0.46  -0.279  0.698 -0.     1.   ]\n",
      " [ 0.431  0.64   0.196 -0.107  0.064  0.081  0.   ]\n",
      " [-0.558  0.159 -0.112 -0.4   -0.058  0.09  -0.   ]\n",
      " [ 0.198 -0.573 -0.034  0.264 -0.    -0.     0.   ]]\n",
      "\n",
      "\n",
      "and the Jacobian in a frame placed at the same position as the end-effector but oriented like the spatial frame is\n",
      "\n",
      " [[ 0.    -0.771 -0.44   0.852 -0.331 -0.943 -0.201]\n",
      " [ 0.     0.636 -0.533  0.006 -0.768  0.244 -0.96 ]\n",
      " [ 1.     0.     0.722  0.524  0.548 -0.228 -0.195]\n",
      " [ 0.648  0.317  0.202  0.223  0.082 -0.032  0.   ]\n",
      " [-0.342  0.385 -0.027 -0.249 -0.021 -0.017  0.   ]\n",
      " [ 0.     0.717  0.103 -0.36   0.02   0.115  0.   ]]\n"
     ]
    }
   ],
   "source": [
    "# we can also get the Jacobian in various frames \n",
    "# it is sufficient to pass the name of the frame as an argument as shown below\n",
    "\n",
    "q = np.random.uniform(-1,1,7)\n",
    "\n",
    "spatial_jacobian = my_robot.get_jacobian(q, 'S')\n",
    "body_jacobian = my_robot.get_jacobian(q, 'B')\n",
    "\n",
    "# we can even get the Jacobian in a frame place at the same position as the end-effector \n",
    "# frame but oriented like the spatial frame\n",
    "oriented_jacobian = my_robot.get_jacobian(q, 'O')\n",
    "\n",
    "print(f'for joint configuration \\n\\n {q} \\n \\n the spatial Jacobian is \\n\\n {spatial_jacobian}\\n\\n')\n",
    "print(f'the body Jacobian is \\n\\n {body_jacobian}\\n\\n')\n",
    "print(f'and the Jacobian in a frame placed at the same position as the end-effector but oriented like the spatial frame is\\n\\n {oriented_jacobian}')"
   ]
  },
  {
   "cell_type": "code",
   "execution_count": 4,
   "metadata": {},
   "outputs": [
    {
     "name": "stdout",
     "output_type": "stream",
     "text": [
      "for joint configuration \n",
      "\n",
      " [-0.483  0.342 -0.243  0.035  0.476 -0.931  0.08 ] \n",
      " \n",
      " the gravity force seen on the joints is \n",
      " \n",
      " [ -0.    -24.731  -0.425   7.727  -0.405   0.218   0.   ]\n"
     ]
    }
   ],
   "source": [
    "# finally it is possible to compute the effect of gravity on the joints\n",
    "# this can for example be used to do gravity compensation when controlling the robot\n",
    "\n",
    "q = np.random.uniform(-1,1,7)\n",
    "\n",
    "g = my_robot.g(q)\n",
    "\n",
    "print(f'for joint configuration \\n\\n {q} \\n \\n the gravity force seen on the joints is \\n \\n {g}')"
   ]
  },
  {
   "cell_type": "markdown",
   "metadata": {},
   "source": [
    "# Code Skeleton for the simulation\n",
    "\n",
    "Feel free to change the `run_time` variable to match your needs."
   ]
  },
  {
   "cell_type": "code",
   "execution_count": null,
   "metadata": {},
   "outputs": [],
   "source": [
    "# here we create a \"simulator object\"\n",
    "simulator = Simulator()\n",
    "simulator.reset_state([0.1,0.1,0.1,0.1,0.1,0.1,0.1])\n",
    "\n",
    "\n",
    "my_robot = iiwaRobot()\n",
    "\n",
    "# duration of the simulation\n",
    "run_time = 10.\n",
    "\n",
    "dt = 0.005\n",
    "num_steps = int(run_time/dt)\n",
    "\n",
    "\n",
    "# we store information\n",
    "ndofs = 7\n",
    "measured_positions = np.zeros([num_steps,ndofs])\n",
    "measured_velocities = np.zeros_like(measured_positions)\n",
    "desired_torques = np.zeros_like(measured_positions)\n",
    "desired_positions = np.zeros_like(measured_positions)\n",
    "desired_velocities = np.zeros_like(measured_positions)\n",
    "time = np.zeros([num_steps])\n",
    "\n",
    "\n",
    "for i in range(num_steps):\n",
    "    # get the current time and save it\n",
    "    time[i] = dt * i\n",
    "    \n",
    "    # we get the position and velocities of the joints\n",
    "    q, dq = simulator.get_state()\n",
    "    measured_positions[i,:] = q\n",
    "    measured_velocities[i,:] = dq\n",
    "    \n",
    "    ## controller: TODO HERE IMPLEMENT YOUR CONTROLLER TO SOLVE THE TASK\n",
    "    ## you will need to replace the naive PD controller implemented below\n",
    "\n",
    "    q_des = np.zeros([7])\n",
    "    dq_des = np.zeros([7])\n",
    "    \n",
    "    # we save the desired positions/velocities for later plotting \n",
    "    desired_positions[i,:] = q_des\n",
    "    desired_velocities[i,:] = dq_des\n",
    "    \n",
    "    ##PD controller\n",
    "    # the PD gains\n",
    "    P = np.array([100., 100., 100., 100., 100., 50., 50.])\n",
    "    D = np.array([2.,2,2,2,2,1,1.])\n",
    "\n",
    "    error = q_des - q # the position error for all the joints (it's a 3D vector)\n",
    "    d_error = dq_des-dq # the velocity error for all the joints\n",
    "    \n",
    "    # we compute the desired torques as a PD controller\n",
    "    joint_torques = np.diag(P) @ error + np.diag(D) @ d_error\n",
    "    desired_torques[i,:] = joint_torques \n",
    "    \n",
    "    # we send them to the robot and do one simulation step\n",
    "    simulator.send_joint_torque(joint_torques)\n",
    "    simulator.step()"
   ]
  },
  {
   "cell_type": "code",
   "execution_count": null,
   "metadata": {},
   "outputs": [],
   "source": []
  }
 ],
 "metadata": {
  "kernelspec": {
   "display_name": "Python 3 (ipykernel)",
   "language": "python",
   "name": "python3"
  },
  "language_info": {
   "codemirror_mode": {
    "name": "ipython",
    "version": 3
   },
   "file_extension": ".py",
   "mimetype": "text/x-python",
   "name": "python",
   "nbconvert_exporter": "python",
   "pygments_lexer": "ipython3",
   "version": "3.9.12"
  }
 },
 "nbformat": 4,
 "nbformat_minor": 4
}
